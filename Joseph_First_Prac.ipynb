{
 "cells": [
  {
   "cell_type": "markdown",
   "id": "df341df1-9211-44b7-bc1f-5e7ea62f8315",
   "metadata": {},
   "source": [
    "# HANDLING NON VALUES AND OUTLIERS IN OUR DATA"
   ]
  },
  {
   "cell_type": "markdown",
   "id": "89bc8bf0-153e-41e4-ace5-108dd731aede",
   "metadata": {},
   "source": [
    "# Installing Libraries"
   ]
  },
  {
   "cell_type": "code",
   "execution_count": 64,
   "id": "ec765fd0-defa-4e82-be93-0cff0431097a",
   "metadata": {},
   "outputs": [
    {
     "name": "stdout",
     "output_type": "stream",
     "text": [
      "Requirement already satisfied: pandas in c:\\users\\odg\\appdata\\local\\programs\\python\\python313\\lib\\site-packages (2.2.3)\n",
      "Requirement already satisfied: numpy>=1.26.0 in c:\\users\\odg\\appdata\\local\\programs\\python\\python313\\lib\\site-packages (from pandas) (2.2.5)\n",
      "Requirement already satisfied: python-dateutil>=2.8.2 in c:\\users\\odg\\appdata\\local\\programs\\python\\python313\\lib\\site-packages (from pandas) (2.9.0.post0)\n",
      "Requirement already satisfied: pytz>=2020.1 in c:\\users\\odg\\appdata\\local\\programs\\python\\python313\\lib\\site-packages (from pandas) (2025.2)\n",
      "Requirement already satisfied: tzdata>=2022.7 in c:\\users\\odg\\appdata\\local\\programs\\python\\python313\\lib\\site-packages (from pandas) (2025.2)\n",
      "Requirement already satisfied: six>=1.5 in c:\\users\\odg\\appdata\\local\\programs\\python\\python313\\lib\\site-packages (from python-dateutil>=2.8.2->pandas) (1.17.0)\n"
     ]
    },
    {
     "name": "stderr",
     "output_type": "stream",
     "text": [
      "ERROR: Could not find a version that satisfies the requirement matplotlib.pyplot (from versions: none)\n",
      "ERROR: No matching distribution found for matplotlib.pyplot\n"
     ]
    },
    {
     "name": "stdout",
     "output_type": "stream",
     "text": [
      "Requirement already satisfied: seaborn in c:\\users\\odg\\appdata\\local\\programs\\python\\python313\\lib\\site-packages (0.13.2)\n",
      "Requirement already satisfied: numpy!=1.24.0,>=1.20 in c:\\users\\odg\\appdata\\local\\programs\\python\\python313\\lib\\site-packages (from seaborn) (2.2.5)\n",
      "Requirement already satisfied: pandas>=1.2 in c:\\users\\odg\\appdata\\local\\programs\\python\\python313\\lib\\site-packages (from seaborn) (2.2.3)\n",
      "Requirement already satisfied: matplotlib!=3.6.1,>=3.4 in c:\\users\\odg\\appdata\\local\\programs\\python\\python313\\lib\\site-packages (from seaborn) (3.10.1)\n",
      "Requirement already satisfied: contourpy>=1.0.1 in c:\\users\\odg\\appdata\\local\\programs\\python\\python313\\lib\\site-packages (from matplotlib!=3.6.1,>=3.4->seaborn) (1.3.2)\n",
      "Requirement already satisfied: cycler>=0.10 in c:\\users\\odg\\appdata\\local\\programs\\python\\python313\\lib\\site-packages (from matplotlib!=3.6.1,>=3.4->seaborn) (0.12.1)\n",
      "Requirement already satisfied: fonttools>=4.22.0 in c:\\users\\odg\\appdata\\local\\programs\\python\\python313\\lib\\site-packages (from matplotlib!=3.6.1,>=3.4->seaborn) (4.57.0)\n",
      "Requirement already satisfied: kiwisolver>=1.3.1 in c:\\users\\odg\\appdata\\local\\programs\\python\\python313\\lib\\site-packages (from matplotlib!=3.6.1,>=3.4->seaborn) (1.4.8)\n",
      "Requirement already satisfied: packaging>=20.0 in c:\\users\\odg\\appdata\\local\\programs\\python\\python313\\lib\\site-packages (from matplotlib!=3.6.1,>=3.4->seaborn) (25.0)\n",
      "Requirement already satisfied: pillow>=8 in c:\\users\\odg\\appdata\\local\\programs\\python\\python313\\lib\\site-packages (from matplotlib!=3.6.1,>=3.4->seaborn) (11.2.1)\n",
      "Requirement already satisfied: pyparsing>=2.3.1 in c:\\users\\odg\\appdata\\local\\programs\\python\\python313\\lib\\site-packages (from matplotlib!=3.6.1,>=3.4->seaborn) (3.2.3)\n",
      "Requirement already satisfied: python-dateutil>=2.7 in c:\\users\\odg\\appdata\\local\\programs\\python\\python313\\lib\\site-packages (from matplotlib!=3.6.1,>=3.4->seaborn) (2.9.0.post0)\n",
      "Requirement already satisfied: pytz>=2020.1 in c:\\users\\odg\\appdata\\local\\programs\\python\\python313\\lib\\site-packages (from pandas>=1.2->seaborn) (2025.2)\n",
      "Requirement already satisfied: tzdata>=2022.7 in c:\\users\\odg\\appdata\\local\\programs\\python\\python313\\lib\\site-packages (from pandas>=1.2->seaborn) (2025.2)\n",
      "Requirement already satisfied: six>=1.5 in c:\\users\\odg\\appdata\\local\\programs\\python\\python313\\lib\\site-packages (from python-dateutil>=2.7->matplotlib!=3.6.1,>=3.4->seaborn) (1.17.0)\n"
     ]
    }
   ],
   "source": [
    "!pip install pandas\n",
    "!pip install matplotlib.pyplot\n",
    "!pip install seaborn"
   ]
  },
  {
   "cell_type": "code",
   "execution_count": 56,
   "id": "bc61658b-3d54-4b53-ac1d-35e47f211675",
   "metadata": {},
   "outputs": [
    {
     "name": "stdout",
     "output_type": "stream",
     "text": [
      "Libraries installed successfully\n"
     ]
    }
   ],
   "source": [
    "print(\"Libraries installed successfully\")"
   ]
  },
  {
   "cell_type": "markdown",
   "id": "65ba196d-6c63-4f9b-a5d1-559f7a0d1df7",
   "metadata": {},
   "source": [
    "# IMPORTING THE NEEDED LIBRARIES"
   ]
  },
  {
   "cell_type": "code",
   "execution_count": 60,
   "id": "1b8c53e3-76f4-4e8b-af03-50b843de36e1",
   "metadata": {},
   "outputs": [
    {
     "name": "stderr",
     "output_type": "stream",
     "text": [
      "Matplotlib is building the font cache; this may take a moment.\n"
     ]
    }
   ],
   "source": [
    "import pandas as pd\n",
    "import matplotlib.pyplot as plt\n",
    "import seaborn as sns"
   ]
  },
  {
   "cell_type": "code",
   "execution_count": 61,
   "id": "d9944ab3-c4f8-454e-a568-5a5c900e25f2",
   "metadata": {},
   "outputs": [
    {
     "name": "stdout",
     "output_type": "stream",
     "text": [
      "imported libraries successfully\n"
     ]
    }
   ],
   "source": [
    "print(\"imported libraries successfully\")"
   ]
  },
  {
   "cell_type": "code",
   "execution_count": 78,
   "id": "0a5c20b9-6baf-439d-8e1c-941124c05a60",
   "metadata": {},
   "outputs": [],
   "source": [
    "df = pd.read_csv(\"employee_sample_data_with_issues.csv\")"
   ]
  },
  {
   "cell_type": "code",
   "execution_count": 79,
   "id": "abb9fa5d-9d38-41ea-90cb-45db7d8dcdbe",
   "metadata": {},
   "outputs": [
    {
     "name": "stdout",
     "output_type": "stream",
     "text": [
      "        Name   Age    Salary       Location        Department\n",
      "0     Nkechi  43.0   42448.0          Lagos             Sales\n",
      "1    Ezekiel  48.0   96144.0           Kano             Admin\n",
      "2     Gbenga  42.0   77612.0          Enugu             Admin\n",
      "3       Kemi  35.0       NaN          Lagos           Finance\n",
      "4      Tunde  23.0  139055.0           Kano         Marketing\n",
      "5      Emeka  45.0   41065.0       Abeokuta             Sales\n",
      "6     Lilian  46.0  142996.0          Enugu           Finance\n",
      "7      Ebere  36.0  116602.0            Jos        Operations\n",
      "8       Jide  39.0   64985.0          Benin           Finance\n",
      "9     Halima  50.0  134092.0          Abuja               R&D\n",
      "10     Hauwa  41.0   46044.0  Port Harcourt             Sales\n",
      "11    Zainab   NaN   46629.0          Enugu             Sales\n",
      "12     Queen  41.0  372730.0          Abuja               R&D\n",
      "13     Funmi   NaN  103161.0          Benin  Customer Support\n",
      "14     Tosin  42.0   45383.0  Port Harcourt               R&D\n",
      "15   Olumide   NaN  115969.0  Port Harcourt         Marketing\n",
      "16   Uchenna  50.0   95033.0          Enugu         Marketing\n",
      "17      Sade  29.0   74208.0          Lagos        Operations\n",
      "18   Raphael  29.0       NaN          Abuja         Marketing\n",
      "19    Godwin  44.0       NaN  Port Harcourt             Admin\n",
      "20   Desmond  30.0   74546.0         Ibadan         Marketing\n",
      "21    Dolapo  22.0  136690.0          Enugu         Marketing\n",
      "22      Umar  49.0   70762.0         Ibadan        Operations\n",
      "23     Yinka  22.0   68491.0       Abeokuta                HR\n",
      "24      Bola  50.0   44756.0           Kano         Marketing\n",
      "25   Cynthia  24.0   40732.0         Kaduna                HR\n",
      "26     Idris  22.0   91159.0  Port Harcourt             Sales\n",
      "27   Opeyemi   NaN  372730.0          Enugu                IT\n",
      "28  Mohammed  41.0  128725.0       Abeokuta  Customer Support\n",
      "29   Rasheed  50.0   59404.0          Abuja             Admin\n",
      "30      Zuby  40.0       NaN       Abeokuta             Admin\n",
      "31     Yusuf  48.0   68396.0           Kano           Finance\n",
      "32    Samuel  38.0   48586.0           Kano                IT\n",
      "33    Chukwu  48.0  114645.0          Benin  Customer Support\n",
      "34     Chika  27.0  146294.0          Abuja         Marketing\n",
      "35  Patience  43.0   78081.0         Kaduna               R&D\n",
      "36    Quadir  43.0       NaN         Kaduna                HR\n",
      "37     Janet  31.0  146551.0            Jos  Customer Support\n",
      "38    Fatima   NaN  124044.0          Benin        Operations\n",
      "39      Musa  50.0   93214.0            Jos               R&D\n",
      "40      Wale  38.0   67600.0         Ibadan        Operations\n",
      "41     Lanre  28.0  138469.0          Benin                IT\n",
      "42     Ngozi  34.0  133690.0         Ibadan  Customer Support\n",
      "43  Kingsley  26.0   70994.0         Kaduna             Admin\n",
      "44  Williams  38.0   47003.0         Ibadan  Customer Support\n",
      "45  Victoria  46.0   47170.0          Benin         Logistics\n",
      "46    Ifeoma  31.0   89468.0       Abeokuta             Admin\n",
      "47    Vivian  37.0   40978.0  Port Harcourt        Operations\n",
      "48   Adebayo  40.0   72122.0          Enugu               R&D\n",
      "49     Peter  48.0   53325.0         Ibadan             Sales\n"
     ]
    }
   ],
   "source": [
    "print(df.head(50))"
   ]
  },
  {
   "cell_type": "code",
   "execution_count": 80,
   "id": "2af54289-87cf-48ef-aa31-ad7b7c1e6069",
   "metadata": {},
   "outputs": [
    {
     "data": {
      "text/plain": [
       "Name          0\n",
       "Age           5\n",
       "Salary        5\n",
       "Location      0\n",
       "Department    0\n",
       "dtype: int64"
      ]
     },
     "execution_count": 80,
     "metadata": {},
     "output_type": "execute_result"
    }
   ],
   "source": [
    "df.isnull().sum()"
   ]
  },
  {
   "cell_type": "markdown",
   "id": "ab9b56ef-0326-4f69-b99f-b67597de9558",
   "metadata": {},
   "source": [
    "# REPLACING THE NON VALUES"
   ]
  },
  {
   "cell_type": "code",
   "execution_count": 81,
   "id": "b6175562-604c-4de1-93c5-c37640f11dc2",
   "metadata": {},
   "outputs": [],
   "source": [
    "df_filled = df.fillna({\"Salary\": df[\"Salary\"].median(), \"Age\": round(df [\"Age\"].mean())})"
   ]
  },
  {
   "cell_type": "code",
   "execution_count": 82,
   "id": "be877273-80fd-4574-8b6b-0a822098424e",
   "metadata": {},
   "outputs": [],
   "source": [
    "df_filled[\"Age\"] = df_filled[\"Age\"].astype(int)"
   ]
  },
  {
   "cell_type": "code",
   "execution_count": 83,
   "id": "2b4185e9-8690-4f46-8fea-21acfd14fc2a",
   "metadata": {},
   "outputs": [
    {
     "name": "stdout",
     "output_type": "stream",
     "text": [
      "      Name  Age    Salary Location Department\n",
      "0   Nkechi   43   42448.0    Lagos      Sales\n",
      "1  Ezekiel   48   96144.0     Kano      Admin\n",
      "2   Gbenga   42   77612.0    Enugu      Admin\n",
      "3     Kemi   35   77612.0    Lagos    Finance\n",
      "4    Tunde   23  139055.0     Kano  Marketing\n"
     ]
    }
   ],
   "source": [
    "print(df_filled.head())"
   ]
  },
  {
   "cell_type": "markdown",
   "id": "e8ed3b53-d7dc-4052-97c9-91dc1913cc26",
   "metadata": {},
   "source": [
    "# HANDLING OUTLIERS IN OUR DATA PROGRAMATICALLY"
   ]
  },
  {
   "cell_type": "code",
   "execution_count": 84,
   "id": "482eb785-b787-4477-a22d-103b9dbf5dd5",
   "metadata": {},
   "outputs": [],
   "source": [
    "Q1 = df_filled[\"Salary\"].quantile (0.25) # 25th Percentile\n",
    "Q3 = df_filled[\"Salary\"].quantile (0.75) # 75th Percentile\n",
    "IQR = Q3 - Q1 # Inter Quartile Range (IQR)"
   ]
  },
  {
   "cell_type": "code",
   "execution_count": 100,
   "id": "967097bf-7e49-4bc3-8a62-e9cf04a06c03",
   "metadata": {},
   "outputs": [
    {
     "name": "stdout",
     "output_type": "stream",
     "text": [
      "Outliers\n",
      "       Name  Age    Salary Location Department\n",
      "12    Queen   41  372730.0    Abuja        R&D\n",
      "27  Opeyemi   38  372730.0    Enugu         IT\n"
     ]
    }
   ],
   "source": [
    "# Define our Lower and Upper Bounds for Outliers\n",
    "Lower_bound = Q1-1.5 * IQR\n",
    "Upper_bound = Q3+1.5 * IQR\n",
    "\n",
    "# Identifying Outliers\n",
    "df_with_outliers = df_filled[(df_filled[\"Salary\"]<Lower_bound) | (df_filled[\"Salary\"]> Upper_bound)]\n",
    "\n",
    "print(\"Outliers\")\n",
    "print(df_with_outliers)"
   ]
  },
  {
   "cell_type": "markdown",
   "id": "c2956e11-fe5f-4ab2-8ef3-48761dcd5baf",
   "metadata": {},
   "source": [
    "# SAVING A FILE"
   ]
  },
  {
   "cell_type": "code",
   "execution_count": 105,
   "id": "22257a94-c7b8-4a0a-a767-f00c38bfcb61",
   "metadata": {},
   "outputs": [
    {
     "name": "stdout",
     "output_type": "stream",
     "text": [
      "file saved successfully\n"
     ]
    }
   ],
   "source": [
    "df_filled.to_csv('filled_employee_dataset.csv', index = False)\n",
    "print(\"file saved successfully\")"
   ]
  },
  {
   "cell_type": "code",
   "execution_count": 88,
   "id": "6fd19278-584a-420f-a4de-9b9a6c8adb22",
   "metadata": {},
   "outputs": [
    {
     "data": {
      "text/plain": [
       "np.float64(372730.0)"
      ]
     },
     "execution_count": 88,
     "metadata": {},
     "output_type": "execute_result"
    }
   ],
   "source": [
    "df_filled['Salary'].max()"
   ]
  },
  {
   "cell_type": "markdown",
   "id": "bd73a772-1a12-4242-bde7-1acfe788cf5b",
   "metadata": {},
   "source": [
    "# HANDLING OUTLIERS USING BOX PLOT "
   ]
  },
  {
   "cell_type": "code",
   "execution_count": 89,
   "id": "3a083eb9-c1e4-420c-aa61-b52bb548c8ed",
   "metadata": {},
   "outputs": [
    {
     "name": "stdout",
     "output_type": "stream",
     "text": [
      "Requirement already satisfied: seaborn in c:\\users\\odg\\appdata\\local\\programs\\python\\python313\\lib\\site-packages (0.13.2)\n",
      "Requirement already satisfied: numpy!=1.24.0,>=1.20 in c:\\users\\odg\\appdata\\local\\programs\\python\\python313\\lib\\site-packages (from seaborn) (2.2.5)\n",
      "Requirement already satisfied: pandas>=1.2 in c:\\users\\odg\\appdata\\local\\programs\\python\\python313\\lib\\site-packages (from seaborn) (2.2.3)\n",
      "Requirement already satisfied: matplotlib!=3.6.1,>=3.4 in c:\\users\\odg\\appdata\\local\\programs\\python\\python313\\lib\\site-packages (from seaborn) (3.10.1)\n",
      "Requirement already satisfied: contourpy>=1.0.1 in c:\\users\\odg\\appdata\\local\\programs\\python\\python313\\lib\\site-packages (from matplotlib!=3.6.1,>=3.4->seaborn) (1.3.2)\n",
      "Requirement already satisfied: cycler>=0.10 in c:\\users\\odg\\appdata\\local\\programs\\python\\python313\\lib\\site-packages (from matplotlib!=3.6.1,>=3.4->seaborn) (0.12.1)\n",
      "Requirement already satisfied: fonttools>=4.22.0 in c:\\users\\odg\\appdata\\local\\programs\\python\\python313\\lib\\site-packages (from matplotlib!=3.6.1,>=3.4->seaborn) (4.57.0)\n",
      "Requirement already satisfied: kiwisolver>=1.3.1 in c:\\users\\odg\\appdata\\local\\programs\\python\\python313\\lib\\site-packages (from matplotlib!=3.6.1,>=3.4->seaborn) (1.4.8)\n",
      "Requirement already satisfied: packaging>=20.0 in c:\\users\\odg\\appdata\\local\\programs\\python\\python313\\lib\\site-packages (from matplotlib!=3.6.1,>=3.4->seaborn) (25.0)\n",
      "Requirement already satisfied: pillow>=8 in c:\\users\\odg\\appdata\\local\\programs\\python\\python313\\lib\\site-packages (from matplotlib!=3.6.1,>=3.4->seaborn) (11.2.1)\n",
      "Requirement already satisfied: pyparsing>=2.3.1 in c:\\users\\odg\\appdata\\local\\programs\\python\\python313\\lib\\site-packages (from matplotlib!=3.6.1,>=3.4->seaborn) (3.2.3)\n",
      "Requirement already satisfied: python-dateutil>=2.7 in c:\\users\\odg\\appdata\\local\\programs\\python\\python313\\lib\\site-packages (from matplotlib!=3.6.1,>=3.4->seaborn) (2.9.0.post0)\n",
      "Requirement already satisfied: pytz>=2020.1 in c:\\users\\odg\\appdata\\local\\programs\\python\\python313\\lib\\site-packages (from pandas>=1.2->seaborn) (2025.2)\n",
      "Requirement already satisfied: tzdata>=2022.7 in c:\\users\\odg\\appdata\\local\\programs\\python\\python313\\lib\\site-packages (from pandas>=1.2->seaborn) (2025.2)\n",
      "Requirement already satisfied: six>=1.5 in c:\\users\\odg\\appdata\\local\\programs\\python\\python313\\lib\\site-packages (from python-dateutil>=2.7->matplotlib!=3.6.1,>=3.4->seaborn) (1.17.0)\n"
     ]
    }
   ],
   "source": [
    "!pip install seaborn"
   ]
  },
  {
   "cell_type": "code",
   "execution_count": 40,
   "id": "b18cb34a-4631-4332-a9c4-6282beea5b6c",
   "metadata": {},
   "outputs": [
    {
     "name": "stdout",
     "output_type": "stream",
     "text": [
      "installed Library Successfully\n"
     ]
    }
   ],
   "source": [
    "print(\"installed Library Successfully\")"
   ]
  },
  {
   "cell_type": "code",
   "execution_count": 90,
   "id": "e01c9929-69a8-412b-a504-c4c4b7de17be",
   "metadata": {},
   "outputs": [],
   "source": [
    "import seaborn as sns\n",
    "import matplotlib.pyplot as plt"
   ]
  },
  {
   "cell_type": "code",
   "execution_count": 65,
   "id": "f90d86ea-e4e7-4c90-b4f1-008ab7eefe07",
   "metadata": {},
   "outputs": [
    {
     "name": "stdout",
     "output_type": "stream",
     "text": [
      "imported libraries successfully\n"
     ]
    }
   ],
   "source": [
    "print('imported libraries successfully')"
   ]
  },
  {
   "cell_type": "code",
   "execution_count": 91,
   "id": "821cd4ef-32d2-47be-b754-2c96a73b03cc",
   "metadata": {},
   "outputs": [
    {
     "data": {
      "image/png": "[encoded data removed]",
      "text/plain": [
       "<Figure size 800x500 with 1 Axes>"
      ]
     },
     "metadata": {},
     "output_type": "display_data"
    }
   ],
   "source": [
    "plt.figure(figsize = (8, 5))\n",
    "sns.boxplot(x=df['Salary'], color = 'Blue')\n",
    "plt.title('Salary Distribution With Outliers')\n",
    "plt.xlabel('Salary')\n",
    "plt.show()"
   ]
  },
  {
   "cell_type": "code",
   "execution_count": 106,
   "id": "e477aee1-1439-4788-bf2c-00b4d2126927",
   "metadata": {},
   "outputs": [
    {
     "ename": "NameError",
     "evalue": "name 'df_cleaned' is not defined",
     "output_type": "error",
     "traceback": [
      "\u001b[31m---------------------------------------------------------------------------\u001b[39m",
      "\u001b[31mNameError\u001b[39m                                 Traceback (most recent call last)",
      "\u001b[36mCell\u001b[39m\u001b[36m \u001b[39m\u001b[32mIn[106]\u001b[39m\u001b[32m, line 1\u001b[39m\n\u001b[32m----> \u001b[39m\u001b[32m1\u001b[39m \u001b[43mdf_cleaned\u001b[49m.head()\n",
      "\u001b[31mNameError\u001b[39m: name 'df_cleaned' is not defined"
     ]
    }
   ],
   "source": [
    "df_cleaned.head()"
   ]
  },
  {
   "cell_type": "code",
   "execution_count": 107,
   "id": "852faa17-79d6-48f5-bd7d-995411c80d5f",
   "metadata": {},
   "outputs": [
    {
     "ename": "NameError",
     "evalue": "name 'df_cleaned' is not defined",
     "output_type": "error",
     "traceback": [
      "\u001b[31m---------------------------------------------------------------------------\u001b[39m",
      "\u001b[31mNameError\u001b[39m                                 Traceback (most recent call last)",
      "\u001b[36mCell\u001b[39m\u001b[36m \u001b[39m\u001b[32mIn[107]\u001b[39m\u001b[32m, line 1\u001b[39m\n\u001b[32m----> \u001b[39m\u001b[32m1\u001b[39m \u001b[38;5;28mprint\u001b[39m(\u001b[43mdf_cleaned\u001b[49m[\u001b[33m'\u001b[39m\u001b[33mSalary\u001b[39m\u001b[33m'\u001b[39m].min())\n\u001b[32m      2\u001b[39m \u001b[38;5;28mprint\u001b[39m(df_cleaned[\u001b[33m'\u001b[39m\u001b[33mSalary\u001b[39m\u001b[33m'\u001b[39m].max())\n",
      "\u001b[31mNameError\u001b[39m: name 'df_cleaned' is not defined"
     ]
    }
   ],
   "source": [
    "print(df_cleaned['Salary'].min())\n",
    "print(df_cleaned['Salary'].max())"
   ]
  },
  {
   "cell_type": "code",
   "execution_count": null,
   "id": "62651795-f670-411e-bfff-4fe0b5ce2ec4",
   "metadata": {},
   "outputs": [],
   "source": []
  }
 ],
 "metadata": {
  "kernelspec": {
   "display_name": "Python 3 (ipykernel)",
   "language": "python",
   "name": "python3"
  },
  "language_info": {
   "codemirror_mode": {
    "name": "ipython",
    "version": 3
   },
   "file_extension": ".py",
   "mimetype": "text/x-python",
   "name": "python",
   "nbconvert_exporter": "python",
   "pygments_lexer": "ipython3",
   "version": "3.13.3"
  }
 },
 "nbformat": 4,
 "nbformat_minor": 5
}
