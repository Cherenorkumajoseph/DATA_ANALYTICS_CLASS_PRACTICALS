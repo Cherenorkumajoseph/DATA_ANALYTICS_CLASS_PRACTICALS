{
 "cells": [
  {
   "cell_type": "markdown",
   "id": "60ac54c1-13d4-44fe-a598-685c6f8739e5",
   "metadata": {},
   "source": [
    "# AUTOMATING WORKFLOW BETWEEN EXCEL AND PYTHON"
   ]
  },
  {
   "cell_type": "markdown",
   "id": "be678008-52aa-4ac8-880a-64ef5853d315",
   "metadata": {},
   "source": [
    "# Installing the Necessary Libraries"
   ]
  },
  {
   "cell_type": "code",
   "execution_count": 2,
   "id": "f5b2b6a6-bf42-4f30-ac3c-dd4ab98317c5",
   "metadata": {},
   "outputs": [
    {
     "name": "stdout",
     "output_type": "stream",
     "text": [
      "Requirement already satisfied: pandas in c:\\users\\odg\\appdata\\local\\programs\\python\\python313\\lib\\site-packages (2.2.3)\n",
      "Requirement already satisfied: numpy>=1.26.0 in c:\\users\\odg\\appdata\\local\\programs\\python\\python313\\lib\\site-packages (from pandas) (2.2.5)\n",
      "Requirement already satisfied: python-dateutil>=2.8.2 in c:\\users\\odg\\appdata\\local\\programs\\python\\python313\\lib\\site-packages (from pandas) (2.9.0.post0)\n",
      "Requirement already satisfied: pytz>=2020.1 in c:\\users\\odg\\appdata\\local\\programs\\python\\python313\\lib\\site-packages (from pandas) (2025.2)\n",
      "Requirement already satisfied: tzdata>=2022.7 in c:\\users\\odg\\appdata\\local\\programs\\python\\python313\\lib\\site-packages (from pandas) (2025.2)\n",
      "Requirement already satisfied: six>=1.5 in c:\\users\\odg\\appdata\\local\\programs\\python\\python313\\lib\\site-packages (from python-dateutil>=2.8.2->pandas) (1.17.0)\n"
     ]
    }
   ],
   "source": [
    "!pip install pandas"
   ]
  },
  {
   "cell_type": "code",
   "execution_count": 4,
   "id": "065d7b09-aa1c-4bbd-83da-2d31e4f48224",
   "metadata": {},
   "outputs": [
    {
     "name": "stdout",
     "output_type": "stream",
     "text": [
      "Libriry Installed Succesfully\n"
     ]
    }
   ],
   "source": [
    "print(\"Libriry Installed Succesfully\")"
   ]
  },
  {
   "cell_type": "markdown",
   "id": "3821daed-da1a-4d20-8932-14e29090cb91",
   "metadata": {},
   "source": [
    "# Importing the Necessary Libraries"
   ]
  },
  {
   "cell_type": "code",
   "execution_count": 3,
   "id": "da34de37-7857-44ab-a81b-baa6b58fd2b0",
   "metadata": {},
   "outputs": [],
   "source": [
    "import pandas as pd"
   ]
  },
  {
   "cell_type": "code",
   "execution_count": 6,
   "id": "489f0fdd-8f87-4261-8bc8-6dca3c6a3477",
   "metadata": {},
   "outputs": [
    {
     "name": "stdout",
     "output_type": "stream",
     "text": [
      "Imported Libraries Successfully\n"
     ]
    }
   ],
   "source": [
    "print(\"Imported Libraries Successfully\")"
   ]
  },
  {
   "cell_type": "markdown",
   "id": "0a452ff3-7892-4788-9060-6ea7c360ced4",
   "metadata": {},
   "source": [
    "# Loading Our Dataset"
   ]
  },
  {
   "cell_type": "code",
   "execution_count": 9,
   "id": "bea9d51f-272b-4452-9c8c-2f946a327e19",
   "metadata": {},
   "outputs": [],
   "source": [
    "# Importing Our CSV file for Visualization\n",
    "sales_df = pd.read_csv(\"monthly_sales_data.csv\")"
   ]
  },
  {
   "cell_type": "code",
   "execution_count": 59,
   "id": "a7a4b627-f1f4-47ec-9cde-c5408b3a1f64",
   "metadata": {},
   "outputs": [
    {
     "data": {
      "text/html": [
       "<div>\n",
       "<style scoped>\n",
       "    .dataframe tbody tr th:only-of-type {\n",
       "        vertical-align: middle;\n",
       "    }\n",
       "\n",
       "    .dataframe tbody tr th {\n",
       "        vertical-align: top;\n",
       "    }\n",
       "\n",
       "    .dataframe thead th {\n",
       "        text-align: right;\n",
       "    }\n",
       "</style>\n",
       "<table border=\"1\" class=\"dataframe\">\n",
       "  <thead>\n",
       "    <tr style=\"text-align: right;\">\n",
       "      <th></th>\n",
       "      <th>Month</th>\n",
       "      <th>Region</th>\n",
       "      <th>Product</th>\n",
       "      <th>Units Sold</th>\n",
       "      <th>Unit Price</th>\n",
       "      <th>Revenue</th>\n",
       "    </tr>\n",
       "  </thead>\n",
       "  <tbody>\n",
       "    <tr>\n",
       "      <th>0</th>\n",
       "      <td>2024-01</td>\n",
       "      <td>North</td>\n",
       "      <td>Software A</td>\n",
       "      <td>120</td>\n",
       "      <td>45</td>\n",
       "      <td>5400</td>\n",
       "    </tr>\n",
       "    <tr>\n",
       "      <th>1</th>\n",
       "      <td>2024-01</td>\n",
       "      <td>South</td>\n",
       "      <td>Software B</td>\n",
       "      <td>80</td>\n",
       "      <td>60</td>\n",
       "      <td>4800</td>\n",
       "    </tr>\n",
       "    <tr>\n",
       "      <th>2</th>\n",
       "      <td>2024-01</td>\n",
       "      <td>East</td>\n",
       "      <td>Software C</td>\n",
       "      <td>50</td>\n",
       "      <td>90</td>\n",
       "      <td>4500</td>\n",
       "    </tr>\n",
       "    <tr>\n",
       "      <th>3</th>\n",
       "      <td>2024-02</td>\n",
       "      <td>North</td>\n",
       "      <td>Software A</td>\n",
       "      <td>140</td>\n",
       "      <td>45</td>\n",
       "      <td>6300</td>\n",
       "    </tr>\n",
       "    <tr>\n",
       "      <th>4</th>\n",
       "      <td>2024-02</td>\n",
       "      <td>South</td>\n",
       "      <td>Software B</td>\n",
       "      <td>95</td>\n",
       "      <td>60</td>\n",
       "      <td>5700</td>\n",
       "    </tr>\n",
       "    <tr>\n",
       "      <th>5</th>\n",
       "      <td>2024-02</td>\n",
       "      <td>East</td>\n",
       "      <td>Software C</td>\n",
       "      <td>60</td>\n",
       "      <td>90</td>\n",
       "      <td>5400</td>\n",
       "    </tr>\n",
       "    <tr>\n",
       "      <th>6</th>\n",
       "      <td>2024-03</td>\n",
       "      <td>North</td>\n",
       "      <td>Software A</td>\n",
       "      <td>160</td>\n",
       "      <td>45</td>\n",
       "      <td>7200</td>\n",
       "    </tr>\n",
       "    <tr>\n",
       "      <th>7</th>\n",
       "      <td>2024-03</td>\n",
       "      <td>South</td>\n",
       "      <td>Software B</td>\n",
       "      <td>100</td>\n",
       "      <td>60</td>\n",
       "      <td>6000</td>\n",
       "    </tr>\n",
       "    <tr>\n",
       "      <th>8</th>\n",
       "      <td>2024-03</td>\n",
       "      <td>East</td>\n",
       "      <td>Software C</td>\n",
       "      <td>75</td>\n",
       "      <td>90</td>\n",
       "      <td>6750</td>\n",
       "    </tr>\n",
       "    <tr>\n",
       "      <th>9</th>\n",
       "      <td>2024-04</td>\n",
       "      <td>North</td>\n",
       "      <td>Software A</td>\n",
       "      <td>130</td>\n",
       "      <td>45</td>\n",
       "      <td>5850</td>\n",
       "    </tr>\n",
       "  </tbody>\n",
       "</table>\n",
       "</div>"
      ],
      "text/plain": [
       "     Month Region     Product  Units Sold  Unit Price  Revenue\n",
       "0  2024-01  North  Software A         120          45     5400\n",
       "1  2024-01  South  Software B          80          60     4800\n",
       "2  2024-01   East  Software C          50          90     4500\n",
       "3  2024-02  North  Software A         140          45     6300\n",
       "4  2024-02  South  Software B          95          60     5700\n",
       "5  2024-02   East  Software C          60          90     5400\n",
       "6  2024-03  North  Software A         160          45     7200\n",
       "7  2024-03  South  Software B         100          60     6000\n",
       "8  2024-03   East  Software C          75          90     6750\n",
       "9  2024-04  North  Software A         130          45     5850"
      ]
     },
     "execution_count": 59,
     "metadata": {},
     "output_type": "execute_result"
    }
   ],
   "source": [
    "sales_df.head(10)"
   ]
  },
  {
   "cell_type": "markdown",
   "id": "2aba53de-c6a6-4d01-a5e3-e173826591f4",
   "metadata": {},
   "source": [
    "# Checking our data for Non Value"
   ]
  },
  {
   "cell_type": "code",
   "execution_count": 11,
   "id": "5fa8f19a-b16e-44cc-bea6-7e3623a227e1",
   "metadata": {},
   "outputs": [
    {
     "data": {
      "text/html": [
       "<div>\n",
       "<style scoped>\n",
       "    .dataframe tbody tr th:only-of-type {\n",
       "        vertical-align: middle;\n",
       "    }\n",
       "\n",
       "    .dataframe tbody tr th {\n",
       "        vertical-align: top;\n",
       "    }\n",
       "\n",
       "    .dataframe thead th {\n",
       "        text-align: right;\n",
       "    }\n",
       "</style>\n",
       "<table border=\"1\" class=\"dataframe\">\n",
       "  <thead>\n",
       "    <tr style=\"text-align: right;\">\n",
       "      <th></th>\n",
       "      <th>Month</th>\n",
       "      <th>Region</th>\n",
       "      <th>Product</th>\n",
       "      <th>Units Sold</th>\n",
       "      <th>Unit Price</th>\n",
       "      <th>Revenue</th>\n",
       "    </tr>\n",
       "  </thead>\n",
       "  <tbody>\n",
       "    <tr>\n",
       "      <th>0</th>\n",
       "      <td>False</td>\n",
       "      <td>False</td>\n",
       "      <td>False</td>\n",
       "      <td>False</td>\n",
       "      <td>False</td>\n",
       "      <td>False</td>\n",
       "    </tr>\n",
       "    <tr>\n",
       "      <th>1</th>\n",
       "      <td>False</td>\n",
       "      <td>False</td>\n",
       "      <td>False</td>\n",
       "      <td>False</td>\n",
       "      <td>False</td>\n",
       "      <td>False</td>\n",
       "    </tr>\n",
       "    <tr>\n",
       "      <th>2</th>\n",
       "      <td>False</td>\n",
       "      <td>False</td>\n",
       "      <td>False</td>\n",
       "      <td>False</td>\n",
       "      <td>False</td>\n",
       "      <td>False</td>\n",
       "    </tr>\n",
       "    <tr>\n",
       "      <th>3</th>\n",
       "      <td>False</td>\n",
       "      <td>False</td>\n",
       "      <td>False</td>\n",
       "      <td>False</td>\n",
       "      <td>False</td>\n",
       "      <td>False</td>\n",
       "    </tr>\n",
       "    <tr>\n",
       "      <th>4</th>\n",
       "      <td>False</td>\n",
       "      <td>False</td>\n",
       "      <td>False</td>\n",
       "      <td>False</td>\n",
       "      <td>False</td>\n",
       "      <td>False</td>\n",
       "    </tr>\n",
       "    <tr>\n",
       "      <th>5</th>\n",
       "      <td>False</td>\n",
       "      <td>False</td>\n",
       "      <td>False</td>\n",
       "      <td>False</td>\n",
       "      <td>False</td>\n",
       "      <td>False</td>\n",
       "    </tr>\n",
       "    <tr>\n",
       "      <th>6</th>\n",
       "      <td>False</td>\n",
       "      <td>False</td>\n",
       "      <td>False</td>\n",
       "      <td>False</td>\n",
       "      <td>False</td>\n",
       "      <td>False</td>\n",
       "    </tr>\n",
       "    <tr>\n",
       "      <th>7</th>\n",
       "      <td>False</td>\n",
       "      <td>False</td>\n",
       "      <td>False</td>\n",
       "      <td>False</td>\n",
       "      <td>False</td>\n",
       "      <td>False</td>\n",
       "    </tr>\n",
       "    <tr>\n",
       "      <th>8</th>\n",
       "      <td>False</td>\n",
       "      <td>False</td>\n",
       "      <td>False</td>\n",
       "      <td>False</td>\n",
       "      <td>False</td>\n",
       "      <td>False</td>\n",
       "    </tr>\n",
       "    <tr>\n",
       "      <th>9</th>\n",
       "      <td>False</td>\n",
       "      <td>False</td>\n",
       "      <td>False</td>\n",
       "      <td>False</td>\n",
       "      <td>False</td>\n",
       "      <td>False</td>\n",
       "    </tr>\n",
       "    <tr>\n",
       "      <th>10</th>\n",
       "      <td>False</td>\n",
       "      <td>False</td>\n",
       "      <td>False</td>\n",
       "      <td>False</td>\n",
       "      <td>False</td>\n",
       "      <td>False</td>\n",
       "    </tr>\n",
       "    <tr>\n",
       "      <th>11</th>\n",
       "      <td>False</td>\n",
       "      <td>False</td>\n",
       "      <td>False</td>\n",
       "      <td>False</td>\n",
       "      <td>False</td>\n",
       "      <td>False</td>\n",
       "    </tr>\n",
       "    <tr>\n",
       "      <th>12</th>\n",
       "      <td>False</td>\n",
       "      <td>False</td>\n",
       "      <td>False</td>\n",
       "      <td>False</td>\n",
       "      <td>False</td>\n",
       "      <td>False</td>\n",
       "    </tr>\n",
       "    <tr>\n",
       "      <th>13</th>\n",
       "      <td>False</td>\n",
       "      <td>False</td>\n",
       "      <td>False</td>\n",
       "      <td>False</td>\n",
       "      <td>False</td>\n",
       "      <td>False</td>\n",
       "    </tr>\n",
       "    <tr>\n",
       "      <th>14</th>\n",
       "      <td>False</td>\n",
       "      <td>False</td>\n",
       "      <td>False</td>\n",
       "      <td>False</td>\n",
       "      <td>False</td>\n",
       "      <td>False</td>\n",
       "    </tr>\n",
       "  </tbody>\n",
       "</table>\n",
       "</div>"
      ],
      "text/plain": [
       "    Month  Region  Product  Units Sold  Unit Price  Revenue\n",
       "0   False   False    False       False       False    False\n",
       "1   False   False    False       False       False    False\n",
       "2   False   False    False       False       False    False\n",
       "3   False   False    False       False       False    False\n",
       "4   False   False    False       False       False    False\n",
       "5   False   False    False       False       False    False\n",
       "6   False   False    False       False       False    False\n",
       "7   False   False    False       False       False    False\n",
       "8   False   False    False       False       False    False\n",
       "9   False   False    False       False       False    False\n",
       "10  False   False    False       False       False    False\n",
       "11  False   False    False       False       False    False\n",
       "12  False   False    False       False       False    False\n",
       "13  False   False    False       False       False    False\n",
       "14  False   False    False       False       False    False"
      ]
     },
     "execution_count": 11,
     "metadata": {},
     "output_type": "execute_result"
    }
   ],
   "source": [
    "sales_df.isnull()"
   ]
  },
  {
   "cell_type": "markdown",
   "id": "b4434103-b361-4cc4-9304-615baaf6146c",
   "metadata": {},
   "source": [
    "# Grouping Dataset by Month"
   ]
  },
  {
   "cell_type": "code",
   "execution_count": 14,
   "id": "5aa0d494-1c60-4e7e-8be3-28bbf5df8f23",
   "metadata": {},
   "outputs": [
    {
     "data": {
      "text/html": [
       "<div>\n",
       "<style scoped>\n",
       "    .dataframe tbody tr th:only-of-type {\n",
       "        vertical-align: middle;\n",
       "    }\n",
       "\n",
       "    .dataframe tbody tr th {\n",
       "        vertical-align: top;\n",
       "    }\n",
       "\n",
       "    .dataframe thead th {\n",
       "        text-align: right;\n",
       "    }\n",
       "</style>\n",
       "<table border=\"1\" class=\"dataframe\">\n",
       "  <thead>\n",
       "    <tr style=\"text-align: right;\">\n",
       "      <th></th>\n",
       "      <th>Month</th>\n",
       "      <th>Product</th>\n",
       "      <th>Revenue</th>\n",
       "    </tr>\n",
       "  </thead>\n",
       "  <tbody>\n",
       "    <tr>\n",
       "      <th>0</th>\n",
       "      <td>2024-01</td>\n",
       "      <td>Software A</td>\n",
       "      <td>5400</td>\n",
       "    </tr>\n",
       "    <tr>\n",
       "      <th>1</th>\n",
       "      <td>2024-01</td>\n",
       "      <td>Software B</td>\n",
       "      <td>4800</td>\n",
       "    </tr>\n",
       "    <tr>\n",
       "      <th>2</th>\n",
       "      <td>2024-01</td>\n",
       "      <td>Software C</td>\n",
       "      <td>4500</td>\n",
       "    </tr>\n",
       "    <tr>\n",
       "      <th>3</th>\n",
       "      <td>2024-02</td>\n",
       "      <td>Software A</td>\n",
       "      <td>6300</td>\n",
       "    </tr>\n",
       "    <tr>\n",
       "      <th>4</th>\n",
       "      <td>2024-02</td>\n",
       "      <td>Software B</td>\n",
       "      <td>5700</td>\n",
       "    </tr>\n",
       "    <tr>\n",
       "      <th>5</th>\n",
       "      <td>2024-02</td>\n",
       "      <td>Software C</td>\n",
       "      <td>5400</td>\n",
       "    </tr>\n",
       "    <tr>\n",
       "      <th>6</th>\n",
       "      <td>2024-03</td>\n",
       "      <td>Software A</td>\n",
       "      <td>7200</td>\n",
       "    </tr>\n",
       "    <tr>\n",
       "      <th>7</th>\n",
       "      <td>2024-03</td>\n",
       "      <td>Software B</td>\n",
       "      <td>6000</td>\n",
       "    </tr>\n",
       "    <tr>\n",
       "      <th>8</th>\n",
       "      <td>2024-03</td>\n",
       "      <td>Software C</td>\n",
       "      <td>6750</td>\n",
       "    </tr>\n",
       "    <tr>\n",
       "      <th>9</th>\n",
       "      <td>2024-04</td>\n",
       "      <td>Software A</td>\n",
       "      <td>5850</td>\n",
       "    </tr>\n",
       "    <tr>\n",
       "      <th>10</th>\n",
       "      <td>2024-04</td>\n",
       "      <td>Software B</td>\n",
       "      <td>6600</td>\n",
       "    </tr>\n",
       "    <tr>\n",
       "      <th>11</th>\n",
       "      <td>2024-04</td>\n",
       "      <td>Software C</td>\n",
       "      <td>7650</td>\n",
       "    </tr>\n",
       "    <tr>\n",
       "      <th>12</th>\n",
       "      <td>2024-05</td>\n",
       "      <td>Software A</td>\n",
       "      <td>6750</td>\n",
       "    </tr>\n",
       "    <tr>\n",
       "      <th>13</th>\n",
       "      <td>2024-05</td>\n",
       "      <td>Software B</td>\n",
       "      <td>5400</td>\n",
       "    </tr>\n",
       "    <tr>\n",
       "      <th>14</th>\n",
       "      <td>2024-05</td>\n",
       "      <td>Software C</td>\n",
       "      <td>8550</td>\n",
       "    </tr>\n",
       "  </tbody>\n",
       "</table>\n",
       "</div>"
      ],
      "text/plain": [
       "      Month     Product  Revenue\n",
       "0   2024-01  Software A     5400\n",
       "1   2024-01  Software B     4800\n",
       "2   2024-01  Software C     4500\n",
       "3   2024-02  Software A     6300\n",
       "4   2024-02  Software B     5700\n",
       "5   2024-02  Software C     5400\n",
       "6   2024-03  Software A     7200\n",
       "7   2024-03  Software B     6000\n",
       "8   2024-03  Software C     6750\n",
       "9   2024-04  Software A     5850\n",
       "10  2024-04  Software B     6600\n",
       "11  2024-04  Software C     7650\n",
       "12  2024-05  Software A     6750\n",
       "13  2024-05  Software B     5400\n",
       "14  2024-05  Software C     8550"
      ]
     },
     "execution_count": 14,
     "metadata": {},
     "output_type": "execute_result"
    }
   ],
   "source": [
    "# group dataset by month, product and revenue\n",
    "monthly_summary = sales_df.groupby([\"Month\", \"Product\"]) [\"Revenue\"].sum().reset_index()\n",
    "monthly_summary"
   ]
  },
  {
   "cell_type": "markdown",
   "id": "9e07ff54-a93a-43cd-ba47-c7cc9c44fa60",
   "metadata": {},
   "source": [
    "# Creating an Excel File for Saving Monthly Report with Charts"
   ]
  },
  {
   "cell_type": "markdown",
   "id": "dc88391f-ea25-40a6-84c8-ca21eecd4a6d",
   "metadata": {},
   "source": [
    "# Installing the xlsx Engine for Saving of Excel file"
   ]
  },
  {
   "cell_type": "code",
   "execution_count": 17,
   "id": "7e5e401f-2ae5-4d8a-9193-14f997bc578e",
   "metadata": {},
   "outputs": [
    {
     "name": "stdout",
     "output_type": "stream",
     "text": [
      "Collecting xlsxwriter\n",
      "  Downloading XlsxWriter-3.2.3-py3-none-any.whl.metadata (2.7 kB)\n",
      "Downloading XlsxWriter-3.2.3-py3-none-any.whl (169 kB)\n",
      "Installing collected packages: xlsxwriter\n",
      "Successfully installed xlsxwriter-3.2.3\n"
     ]
    },
    {
     "name": "stderr",
     "output_type": "stream",
     "text": [
      "\n",
      "[notice] A new release of pip is available: 25.0.1 -> 25.1.1\n",
      "[notice] To update, run: python.exe -m pip install --upgrade pip\n"
     ]
    }
   ],
   "source": [
    "!pip install xlsxwriter"
   ]
  },
  {
   "cell_type": "code",
   "execution_count": 55,
   "id": "d4795094-6bc5-4035-b1d3-bc260e0238b4",
   "metadata": {},
   "outputs": [],
   "source": [
    "writer = pd.ExcelWriter(\"monthly_sales_with_chart.xlsx\", engine=\"xlsxwriter\")"
   ]
  },
  {
   "cell_type": "markdown",
   "id": "6c16f1ad-7c24-42c6-b2fd-0e25460a983e",
   "metadata": {},
   "source": [
    "#  Committing the file to Excel"
   ]
  },
  {
   "cell_type": "code",
   "execution_count": 56,
   "id": "d85fbb49-1d8a-4cd0-b56c-2ef2c978254d",
   "metadata": {},
   "outputs": [],
   "source": [
    "monthly_summary.to_excel(writer, sheet_name = \"Revenue\", index = False)"
   ]
  },
  {
   "cell_type": "markdown",
   "id": "fb23d466-78f3-4851-b680-91be6ea89bf5",
   "metadata": {},
   "source": [
    "# Adding Charts in Python to Excel"
   ]
  },
  {
   "cell_type": "code",
   "execution_count": 57,
   "id": "3385d44a-186a-47df-ae03-0130d58a0a78",
   "metadata": {},
   "outputs": [],
   "source": [
    "workbook = writer.book # creates the workbook object\n",
    "worksheet = writer.sheets[\"Revenue\"] # creates a worksheet object"
   ]
  },
  {
   "cell_type": "markdown",
   "id": "5e7de202-d728-410b-aa0f-01a42413d82e",
   "metadata": {},
   "source": [
    "# Creating a Line Chart"
   ]
  },
  {
   "cell_type": "code",
   "execution_count": 58,
   "id": "9b1d1673-12d2-4c0e-899f-27f6106d27b4",
   "metadata": {},
   "outputs": [],
   "source": [
    "# create a line Chart\n",
    "chart = workbook.add_chart({\"type\": \"line\"})\n",
    "\n",
    "chart.add_series({\n",
    "    \"name\": \"Revenue\",\n",
    "    \"categories\": [\"Revenue\", 1, 0, len(monthly_summary), 0],\n",
    "    \"values\": [\"Revenue\", 1, 2, len(monthly_summary), 2],\n",
    "})\n",
    "\n",
    "chart.set_title({\"name\": \"Monthly Revenue By Product\"})\n",
    "chart.set_x_axis({\"name\": \"Month\"})\n",
    "chart.set_y_axis({\"name\": \"Revenue ($)\"})\n",
    "\n",
    "worksheet.insert_chart(\"E2\", chart)\n",
    "writer.close()"
   ]
  },
  {
   "cell_type": "code",
   "execution_count": null,
   "id": "4c136687-313c-41b9-ba12-c7156258620f",
   "metadata": {},
   "outputs": [],
   "source": []
  }
 ],
 "metadata": {
  "kernelspec": {
   "display_name": "Python 3 (ipykernel)",
   "language": "python",
   "name": "python3"
  },
  "language_info": {
   "codemirror_mode": {
    "name": "ipython",
    "version": 3
   },
   "file_extension": ".py",
   "mimetype": "text/x-python",
   "name": "python",
   "nbconvert_exporter": "python",
   "pygments_lexer": "ipython3",
   "version": "3.13.3"
  }
 },
 "nbformat": 4,
 "nbformat_minor": 5
}
